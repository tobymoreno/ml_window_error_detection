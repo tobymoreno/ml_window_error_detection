{
 "cells": [
  {
   "cell_type": "code",
   "execution_count": 204,
   "metadata": {},
   "outputs": [],
   "source": [
    "import time\n",
    "import numpy as np\n",
    "import h5py\n",
    "import matplotlib.pyplot as plt\n",
    "import scipy\n",
    "from PIL import Image\n",
    "from scipy import ndimage\n",
    "from util_dnn import *"
   ]
  },
  {
   "cell_type": "code",
   "execution_count": 217,
   "metadata": {},
   "outputs": [
    {
     "name": "stdout",
     "output_type": "stream",
     "text": [
      "The autoreload extension is already loaded. To reload it, use:\n",
      "  %reload_ext autoreload\n",
      "./datasets/ss1-1.png 1\n",
      "./datasets/ss10-1.png 1\n",
      "./datasets/ss11-0.png 0\n",
      "./datasets/ss12-0.png 0\n",
      "./datasets/ss2-0.png 0\n"
     ]
    },
    {
     "name": "stderr",
     "output_type": "stream",
     "text": [
      "C:\\Users\\tmoreno\\AppData\\Local\\Continuum\\anaconda3\\lib\\site-packages\\ipykernel_launcher.py:25: DeprecationWarning: `imread` is deprecated!\n",
      "`imread` is deprecated in SciPy 1.0.0.\n",
      "Use ``matplotlib.pyplot.imread`` instead.\n",
      "C:\\Users\\tmoreno\\AppData\\Local\\Continuum\\anaconda3\\lib\\site-packages\\ipykernel_launcher.py:27: DeprecationWarning: `imresize` is deprecated!\n",
      "`imresize` is deprecated in SciPy 1.0.0, and will be removed in 1.3.0.\n",
      "Use Pillow instead: ``numpy.array(Image.fromarray(arr).resize())``.\n"
     ]
    },
    {
     "name": "stdout",
     "output_type": "stream",
     "text": [
      "./datasets/ss3-1.png 1\n",
      "./datasets/ss4-1.png 1\n",
      "./datasets/ss5-1.png 1\n",
      "./datasets/ss6-0.png 0\n",
      "./datasets/ss7-0.png 0\n",
      "./datasets/ss8-0.png 0\n",
      "./datasets/ss9-1.png 1\n",
      "./datasets/wss13-0.png 0\n",
      "./datasets/wss14-1.png 1\n"
     ]
    },
    {
     "data": {
      "text/plain": [
       "['./datasets/ss1-1.png',\n",
       " './datasets/ss10-1.png',\n",
       " './datasets/ss11-0.png',\n",
       " './datasets/ss12-0.png',\n",
       " './datasets/ss2-0.png',\n",
       " './datasets/ss3-1.png',\n",
       " './datasets/ss4-1.png',\n",
       " './datasets/ss5-1.png',\n",
       " './datasets/ss6-0.png',\n",
       " './datasets/ss7-0.png',\n",
       " './datasets/ss8-0.png',\n",
       " './datasets/ss9-1.png',\n",
       " './datasets/wss13-0.png',\n",
       " './datasets/wss14-1.png']"
      ]
     },
     "execution_count": 217,
     "metadata": {},
     "output_type": "execute_result"
    }
   ],
   "source": [
    "%matplotlib inline\n",
    "plt.rcParams['figure.figsize'] = (5.0, 4.0) # set default size of plots\n",
    "plt.rcParams['image.interpolation'] = 'nearest'\n",
    "plt.rcParams['image.cmap'] = 'gray'\n",
    "\n",
    "%load_ext autoreload\n",
    "%autoreload 2\n",
    "\n",
    "np.random.seed(1)\n",
    "\n",
    "num_px = 64\n",
    "\n",
    "tx = []\n",
    "ty = []\n",
    "tx_orig = []\n",
    "xfiles = []\n",
    "\n",
    "import os\n",
    "for root, dirs, files in os.walk(\"./datasets\", topdown=False):\n",
    "    for item in [name for name in files if name.endswith(\".png\")] :\n",
    "        y = item[item.index('-') + 1 : item.index('.')]\n",
    "        fname = root + \"/\" + item\n",
    "        print(fname, y)\n",
    "        xfiles.append(fname)\n",
    "        image = np.array(ndimage.imread(fname, flatten=False))\n",
    "        tx_orig.append(image)\n",
    "        my_image = scipy.misc.imresize(image, size=(num_px,num_px)) #.reshape((num_px*num_px*3,1))\n",
    "        #my_image = my_image/255. # NO need because it will transformed later on\n",
    "        \n",
    "        # remove the alpha channel\n",
    "        if my_image.shape[2] == 4:\n",
    "            my_image = my_image[:,:,:3]\n",
    "            \n",
    "        tx.append(my_image)\n",
    "        ty.append(int(y))\n",
    "\n",
    "\n",
    "#         print(my_image.shape)    \n",
    "nty = np.array(ty).reshape(1, -1)\n",
    "ntx = np.array(tx)"
   ]
  },
  {
   "cell_type": "code",
   "execution_count": 239,
   "metadata": {},
   "outputs": [
    {
     "name": "stdout",
     "output_type": "stream",
     "text": [
      "14\n",
      "Number of training examples: 14\n",
      "Each image is of size: (64, 64, 3)\n",
      "train_x_orig shape: (14, 64, 64, 3)\n",
      "train_y shape: (1, 14)\n",
      "train_x's shape: (12288, 14)\n"
     ]
    }
   ],
   "source": [
    "# Explore your dataset \n",
    "m_train = ntx.shape[0]\n",
    "print(m_train)\n",
    "print (\"Number of training examples: \" + str(m_train))\n",
    "print (\"Each image is of size: (\" + str(num_px) + \", \" + str(num_px) + \", 3)\")\n",
    "print (\"train_x_orig shape: \" + str(ntx.shape))\n",
    "print (\"train_y shape: \" + str(nty.shape))\n",
    "\n",
    "# Reshape the training and test examples \n",
    "train_x_flatten = ntx.reshape(ntx.shape[0], -1).T   # The \"-1\" makes reshape flatten the remaining dimensions\n",
    "\n",
    "# Standardize data to have feature values between 0 and 1.\n",
    "train_x = train_x_flatten/255.\n",
    "\n",
    "print (\"train_x's shape: \" + str(train_x.shape))\n",
    "\n",
    "# GRADED FUNCTION: L_layer_model\n",
    "\n",
    "def L_layer_model(X, Y, layers_dims, learning_rate = 0.0075, num_iterations = 3000, print_cost=False):#lr was 0.009\n",
    "    \"\"\"\n",
    "    Implements a L-layer neural network: [LINEAR->RELU]*(L-1)->LINEAR->SIGMOID.\n",
    "    \n",
    "    Arguments:\n",
    "    X -- data, numpy array of shape (number of examples, num_px * num_px * 3)\n",
    "    Y -- true \"label\" vector (containing 0 if error, 1 if non-error), of shape (1, number of examples)\n",
    "    layers_dims -- list containing the input size and each layer size, of length (number of layers + 1).\n",
    "    learning_rate -- learning rate of the gradient descent update rule\n",
    "    num_iterations -- number of iterations of the optimization loop\n",
    "    print_cost -- if True, it prints the cost every 100 steps\n",
    "    \n",
    "    Returns:\n",
    "    parameters -- parameters learnt by the model. They can then be used to predict.\n",
    "    \"\"\"\n",
    "\n",
    "    np.random.seed(1)\n",
    "    costs = []                         # keep track of cost\n",
    "    \n",
    "    # Parameters initialization. (≈ 1 line of code)\n",
    "    ### START CODE HERE ###\n",
    "    parameters =  initialize_parameters_deep(layers_dims)\n",
    "    ### END CODE HERE ###\n",
    "    \n",
    "    # Loop (gradient descent)\n",
    "    for i in range(0, num_iterations):\n",
    "\n",
    "        # Forward propagation: [LINEAR -> RELU]*(L-1) -> LINEAR -> SIGMOID.\n",
    "        AL, caches = L_model_forward(X, parameters)\n",
    "        cost = compute_cost(AL, Y)\n",
    "\n",
    "        # Backward propagation.\n",
    "        grads = L_model_backward(AL, Y, caches)\n",
    "        # update params\n",
    "        parameters = update_parameters(parameters, grads, learning_rate)\n",
    "        \n",
    "        # Print the cost every 1000 training example\n",
    "        if print_cost and i % 1000 == 0:\n",
    "            print (\"Cost after iteration %i: %f\" %(i, cost))\n",
    "        if print_cost and i % 1000 == 0:\n",
    "            costs.append(cost)\n",
    "            \n",
    "    # plot the cost\n",
    "    plt.plot(np.squeeze(costs))\n",
    "    plt.ylabel('cost')\n",
    "    plt.xlabel('iterations (per tens)')\n",
    "    plt.title(\"Learning rate =\" + str(learning_rate))\n",
    "    plt.show()\n",
    "    \n",
    "    return parameters"
   ]
  },
  {
   "cell_type": "code",
   "execution_count": 240,
   "metadata": {},
   "outputs": [
    {
     "data": {
      "text/plain": [
       "((12288, 14), (1, 14))"
      ]
     },
     "execution_count": 240,
     "metadata": {},
     "output_type": "execute_result"
    }
   ],
   "source": [
    "train_x.shape, nty.shape"
   ]
  },
  {
   "cell_type": "code",
   "execution_count": 241,
   "metadata": {},
   "outputs": [],
   "source": [
    "### CONSTANTS ###\n",
    "layers_dims = [12288, 20, 7, 5, 1] #  4-layer model"
   ]
  },
  {
   "cell_type": "code",
   "execution_count": 224,
   "metadata": {
    "scrolled": false
   },
   "outputs": [
    {
     "name": "stdout",
     "output_type": "stream",
     "text": [
      "Cost after iteration 0: 0.747384\n",
      "Cost after iteration 1000: 0.690378\n",
      "Cost after iteration 2000: 0.687222\n",
      "Cost after iteration 3000: 0.683760\n",
      "Cost after iteration 4000: 0.520505\n",
      "Cost after iteration 5000: 0.326156\n",
      "Cost after iteration 6000: 0.262247\n",
      "Cost after iteration 7000: 0.216047\n",
      "Cost after iteration 8000: 0.182559\n",
      "Cost after iteration 9000: 0.154544\n",
      "Cost after iteration 10000: 0.132264\n",
      "Cost after iteration 11000: 0.113835\n",
      "Cost after iteration 12000: 0.099124\n",
      "Cost after iteration 13000: 0.086140\n",
      "Cost after iteration 14000: 0.076251\n",
      "Cost after iteration 15000: 0.066290\n",
      "Cost after iteration 16000: 0.058703\n",
      "Cost after iteration 17000: 0.052373\n",
      "Cost after iteration 18000: 0.046800\n",
      "Cost after iteration 19000: 0.042100\n",
      "Cost after iteration 20000: 0.038108\n",
      "Cost after iteration 21000: 0.034848\n",
      "Cost after iteration 22000: 0.031497\n",
      "Cost after iteration 23000: 0.028693\n",
      "Cost after iteration 24000: 0.026442\n"
     ]
    },
    {
     "data": {
      "image/png": "[encoded data removed]",
      "text/plain": [
       "<Figure size 360x288 with 1 Axes>"
      ]
     },
     "metadata": {
      "needs_background": "light"
     },
     "output_type": "display_data"
    }
   ],
   "source": [
    "parameters = L_layer_model(train_x, nty, layers_dims, learning_rate=.001, num_iterations = 25000, print_cost = True)"
   ]
  },
  {
   "cell_type": "code",
   "execution_count": 225,
   "metadata": {},
   "outputs": [
    {
     "name": "stdout",
     "output_type": "stream",
     "text": [
      "Accuracy: 0.9999999999999998\n"
     ]
    }
   ],
   "source": [
    "predictions_train = predict(train_x, nty, parameters)"
   ]
  },
  {
   "cell_type": "code",
   "execution_count": 226,
   "metadata": {},
   "outputs": [
    {
     "data": {
      "text/plain": [
       "[12288, 20, 7, 5, 1]"
      ]
     },
     "execution_count": 226,
     "metadata": {},
     "output_type": "execute_result"
    }
   ],
   "source": [
    "layers_dims"
   ]
  },
  {
   "cell_type": "code",
   "execution_count": 227,
   "metadata": {},
   "outputs": [
    {
     "data": {
      "text/plain": [
       "((12288, 14), (1, 14))"
      ]
     },
     "execution_count": 227,
     "metadata": {},
     "output_type": "execute_result"
    }
   ],
   "source": [
    "train_x.shape, nty.shape"
   ]
  },
  {
   "cell_type": "code",
   "execution_count": 228,
   "metadata": {},
   "outputs": [
    {
     "name": "stdout",
     "output_type": "stream",
     "text": [
      "Accuracy: 0.9999999999999998\n"
     ]
    },
    {
     "data": {
      "text/plain": [
       "array([[1., 1., 0., 0., 0., 1., 1., 1., 0., 0., 0., 1., 0., 1.]])"
      ]
     },
     "execution_count": 228,
     "metadata": {},
     "output_type": "execute_result"
    }
   ],
   "source": [
    "predict(train_x, nty,parameters)"
   ]
  },
  {
   "cell_type": "code",
   "execution_count": 229,
   "metadata": {},
   "outputs": [
    {
     "data": {
      "text/plain": [
       "array([[1, 1, 0, 0, 0, 1, 1, 1, 0, 0, 0, 1, 0, 1]])"
      ]
     },
     "execution_count": 229,
     "metadata": {},
     "output_type": "execute_result"
    }
   ],
   "source": [
    "nty"
   ]
  },
  {
   "cell_type": "code",
   "execution_count": 230,
   "metadata": {},
   "outputs": [
    {
     "name": "stdout",
     "output_type": "stream",
     "text": [
      "Accuracy: 1.0\n"
     ]
    },
    {
     "data": {
      "text/plain": [
       "array([[0.]])"
      ]
     },
     "execution_count": 230,
     "metadata": {},
     "output_type": "execute_result"
    }
   ],
   "source": [
    "predict(train_x[:,3:4], nty[:,3:4],parameters)"
   ]
  },
  {
   "cell_type": "code",
   "execution_count": 231,
   "metadata": {},
   "outputs": [
    {
     "data": {
      "text/plain": [
       "array([[0.12941176],\n",
       "       [0.1372549 ],\n",
       "       [0.14901961],\n",
       "       ...,\n",
       "       [0.90980392],\n",
       "       [0.91372549],\n",
       "       [0.91372549]])"
      ]
     },
     "execution_count": 231,
     "metadata": {},
     "output_type": "execute_result"
    }
   ],
   "source": [
    "train_x[:,3:4]"
   ]
  },
  {
   "cell_type": "code",
   "execution_count": 238,
   "metadata": {},
   "outputs": [
    {
     "name": "stdout",
     "output_type": "stream",
     "text": [
      "ss1-1.png\n",
      "ss10-1.png\n",
      "ss11-0.png\n",
      "ss12-0.png\n",
      "ss2-0.png\n",
      "ss3-1.png\n",
      "ss4-1.png\n",
      "ss5-1.png\n",
      "ss6-0.png\n",
      "ss7-0.png\n",
      "ss8-0.png\n",
      "ss9-1.png\n",
      "wss13-0.png\n",
      "wss14-1.png\n"
     ]
    }
   ],
   "source": [
    "!ls datasets"
   ]
  },
  {
   "cell_type": "code",
   "execution_count": 233,
   "metadata": {},
   "outputs": [
    {
     "name": "stderr",
     "output_type": "stream",
     "text": [
      "C:\\Users\\tmoreno\\AppData\\Local\\Continuum\\anaconda3\\lib\\site-packages\\ipykernel_launcher.py:7: DeprecationWarning: `imread` is deprecated!\n",
      "`imread` is deprecated in SciPy 1.0.0.\n",
      "Use ``matplotlib.pyplot.imread`` instead.\n",
      "  import sys\n",
      "C:\\Users\\tmoreno\\AppData\\Local\\Continuum\\anaconda3\\lib\\site-packages\\ipykernel_launcher.py:8: DeprecationWarning: `imresize` is deprecated!\n",
      "`imresize` is deprecated in SciPy 1.0.0, and will be removed in 1.3.0.\n",
      "Use Pillow instead: ``numpy.array(Image.fromarray(arr).resize())``.\n",
      "  \n"
     ]
    },
    {
     "name": "stdout",
     "output_type": "stream",
     "text": [
      "Accuracy: 1.0\n",
      "[[1.]]\n",
      "y = 1.0\n"
     ]
    },
    {
     "data": {
      "image/png": "[encoded data removed]",
      "text/plain": [
       "<Figure size 360x288 with 1 Axes>"
      ]
     },
     "metadata": {
      "needs_background": "light"
     },
     "output_type": "display_data"
    }
   ],
   "source": [
    "## START CODE HERE ##\n",
    "my_image = \"./datasets/ss9-1.png\" # change this to the name of your image file \n",
    "my_label_y = [1] #\n",
    "## END CODE HERE ##\n",
    "\n",
    "fname = my_image #\"images/\" + my_image\n",
    "image = np.array(ndimage.imread(fname, flatten=False))\n",
    "my_image = scipy.misc.imresize(image, size=(num_px,num_px)).reshape((num_px*num_px*3,1))\n",
    "\n",
    "my_image = my_image/255.\n",
    "\n",
    "my_predicted_image = predict(my_image, my_label_y, parameters)\n",
    "\n",
    "print(my_predicted_image)\n",
    "\n",
    "plt.imshow(image)\n",
    "print (\"y = \" + str(np.squeeze(my_predicted_image)))"
   ]
  },
  {
   "cell_type": "code",
   "execution_count": 237,
   "metadata": {},
   "outputs": [
    {
     "name": "stderr",
     "output_type": "stream",
     "text": [
      "C:\\Users\\tmoreno\\AppData\\Local\\Continuum\\anaconda3\\lib\\site-packages\\ipykernel_launcher.py:7: DeprecationWarning: `imread` is deprecated!\n",
      "`imread` is deprecated in SciPy 1.0.0.\n",
      "Use ``matplotlib.pyplot.imread`` instead.\n",
      "  import sys\n",
      "C:\\Users\\tmoreno\\AppData\\Local\\Continuum\\anaconda3\\lib\\site-packages\\ipykernel_launcher.py:9: DeprecationWarning: `imresize` is deprecated!\n",
      "`imresize` is deprecated in SciPy 1.0.0, and will be removed in 1.3.0.\n",
      "Use Pillow instead: ``numpy.array(Image.fromarray(arr).resize())``.\n",
      "  if __name__ == '__main__':\n"
     ]
    },
    {
     "name": "stdout",
     "output_type": "stream",
     "text": [
      "Accuracy: 1.0\n",
      "[[1.]]\n",
      "y = 1.0\n"
     ]
    },
    {
     "data": {
      "image/png": "[encoded data removed]",
      "text/plain": [
       "<Figure size 360x288 with 1 Axes>"
      ]
     },
     "metadata": {
      "needs_background": "light"
     },
     "output_type": "display_data"
    }
   ],
   "source": [
    "## START CODE HERE ##\n",
    "my_image = \"./tests/wss18-1.png\" # change this to the name of your image file \n",
    "my_label_y = [1] \n",
    "## END CODE HERE ##\n",
    "\n",
    "fname = my_image #\"images/\" + my_image\n",
    "image = np.array(ndimage.imread(fname, flatten=False))\n",
    "\n",
    "my_image = scipy.misc.imresize(image[:,:,:3], size=(num_px,num_px)).reshape((num_px*num_px*3,1))\n",
    "\n",
    "my_image = my_image/255.\n",
    "\n",
    "my_predicted_image = predict(my_image, my_label_y, parameters)\n",
    "\n",
    "print(my_predicted_image)\n",
    "\n",
    "plt.imshow(image)\n",
    "print (\"y = \" + str(np.squeeze(my_predicted_image)))"
   ]
  },
  {
   "cell_type": "code",
   "execution_count": null,
   "metadata": {},
   "outputs": [],
   "source": []
  }
 ],
 "metadata": {
  "kernelspec": {
   "display_name": "Python 3",
   "language": "python",
   "name": "python3"
  },
  "language_info": {
   "codemirror_mode": {
    "name": "ipython",
    "version": 3
   },
   "file_extension": ".py",
   "mimetype": "text/x-python",
   "name": "python",
   "nbconvert_exporter": "python",
   "pygments_lexer": "ipython3",
   "version": "3.7.3"
  }
 },
 "nbformat": 4,
 "nbformat_minor": 2
}
